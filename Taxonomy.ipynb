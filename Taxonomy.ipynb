{
  "nbformat": 4,
  "nbformat_minor": 0,
  "metadata": {
    "colab": {
      "name": "Untitled",
      "provenance": [],
      "authorship_tag": "ABX9TyPVT5CHvIMdZhTpwEtLZojn",
      "include_colab_link": true
    },
    "kernelspec": {
      "name": "python3",
      "display_name": "Python 3"
    },
    "language_info": {
      "name": "python"
    }
  },
  "cells": [
    {
      "cell_type": "markdown",
      "metadata": {
        "id": "view-in-github",
        "colab_type": "text"
      },
      "source": [
        "<a href=\"https://colab.research.google.com/github/LaviBenshimol/OverWatch/blob/main/Taxonomy.ipynb\" target=\"_parent\"><img src=\"https://colab.research.google.com/assets/colab-badge.svg\" alt=\"Open In Colab\"/></a>"
      ]
    },
    {
      "cell_type": "markdown",
      "metadata": {
        "id": "Mwnt372nNmED"
      },
      "source": [
        "**TEST BED EXPERIMENT**\n",
        "*Description*: \n",
        "  1. Invoke few API-Gateway request on the current Test Bed. \n",
        "  2. Review the output logs, try to insolate the API-Gateway request logging.\n",
        "  3. Preform Taxonomy on the logs.\n",
        "\n",
        "**13:06:** made few good calls and one bad call on api-response-lambda\n",
        "**analyze 13:00 - 13:10**\n",
        "\n",
        "CLOUDWATCH VIEWING CONSOLE: FILTER USAGE EXAMPLE\n",
        "\n",
        "\"{ ($.userIdentity.invokedBy != \"cloudtrail.amazonaws.com\") && ($.userAgent != \"config.amazonaws.com\") && ($.eventSource != \"s3.amazonaws.com\") && ($.userIdentity.invokedBy != \"ec2.amazonaws.com\") }\"\n",
        "\n",
        "**showing all logs which NOT contain the foloowing:**\n",
        "userIdentity.invokedBy = cloudtrail.amazonaws.com \t#logging trail, not related to experiment..\n",
        "userAgent = config.amazonaws.com \t\t\t\t\t#configuration logs. not related to experiment.\n",
        "eventSource = s3.amazonaws.com \t\t\t\t\t\t#S3 management event, currently logging trail only. not related to experiment.\n",
        "userIdentity.invokedBy = ec2.amazonaws.com \t\t\t#ec2 instance logs. not related to experiment.\n",
        "\n",
        "**TEST BED EXPERIMENT CONCLUSION**\n",
        "  1. need of more logs, application logs specifically "
      ]
    },
    {
      "cell_type": "code",
      "metadata": {
        "id": "RBsBqaLHNY7R"
      },
      "source": [
        ""
      ],
      "execution_count": null,
      "outputs": []
    }
  ]
}